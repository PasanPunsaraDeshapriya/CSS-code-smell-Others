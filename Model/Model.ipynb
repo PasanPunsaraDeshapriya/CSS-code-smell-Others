{
  "nbformat": 4,
  "nbformat_minor": 0,
  "metadata": {
    "colab": {
      "provenance": []
    },
    "kernelspec": {
      "name": "python3",
      "display_name": "Python 3"
    },
    "language_info": {
      "name": "python"
    }
  },
  "cells": [
    {
      "cell_type": "code",
      "execution_count": null,
      "metadata": {
        "colab": {
          "base_uri": "https://localhost:8080/"
        },
        "id": "9vVO2Zxbg7a_",
        "outputId": "8aac7cae-fb7f-425a-982a-b5ef7056f281"
      },
      "outputs": [
        {
          "output_type": "stream",
          "name": "stdout",
          "text": [
            "Drive already mounted at /content/drive; to attempt to forcibly remount, call drive.mount(\"/content/drive\", force_remount=True).\n",
            "Accuracy: 0.9583333333333334\n",
            "\n",
            "Classification Report:\n",
            "                  precision    recall  f1-score   support\n",
            "\n",
            "          Clean       1.00      0.94      0.97        72\n",
            "    High Smells       0.80      1.00      0.89        12\n",
            "Moderate Smells       0.92      1.00      0.96        12\n",
            "\n",
            "       accuracy                           0.96        96\n",
            "      macro avg       0.91      0.98      0.94        96\n",
            "   weighted avg       0.97      0.96      0.96        96\n",
            "\n",
            "Model saved to /content/drive/MyDrive/css_smell_classifier.pkl\n"
          ]
        }
      ],
      "source": [
        "# Step 1: Mount Google Drive\n",
        "from google.colab import drive\n",
        "drive.mount('/content/drive')\n",
        "\n",
        "# Step 2: Import Required Libraries\n",
        "import csv\n",
        "from sklearn.ensemble import RandomForestClassifier\n",
        "from sklearn.model_selection import train_test_split\n",
        "from sklearn.metrics import classification_report, accuracy_score\n",
        "import joblib  # To save the trained model\n",
        "\n",
        "# Step 3: Load the Clustered File\n",
        "file_path = '/content/drive/MyDrive/clustered_features.csv'  # Update this path\n",
        "\n",
        "# Manually read the CSV without pandas\n",
        "features = []\n",
        "clusters = []\n",
        "with open(file_path, 'r') as file:\n",
        "    reader = csv.DictReader(file)\n",
        "    for row in reader:\n",
        "        features.append([\n",
        "            float(row['nesting_depth']),\n",
        "            float(row['num_ids']),\n",
        "            float(row['num_classes']),\n",
        "            float(row['num_important']),\n",
        "            float(row['duplicate_selectors'])\n",
        "        ])\n",
        "        clusters.append(int(row['cluster']))  # Use the cluster column as the target\n",
        "\n",
        "# Step 4: Map Clusters to Labels\n",
        "# Map cluster numbers to meaningful labels\n",
        "label_mapping = {\n",
        "    0: \"Clean\",\n",
        "    1: \"Moderate Smells\",\n",
        "    2: \"High Smells\"\n",
        "}\n",
        "labels = [label_mapping[cluster] for cluster in clusters]\n",
        "\n",
        "# Step 5: Prepare Features and Labels\n",
        "X = features  # Features extracted from the file\n",
        "y = labels    # Labels corresponding to clusters (Clean, Moderate Smells, High Smells)\n",
        "\n",
        "# Split the data into training and testing sets\n",
        "X_train, X_test, y_train, y_test = train_test_split(X, y, test_size=0.2, random_state=42)\n",
        "\n",
        "# Step 6: Train a Random Forest Classifier\n",
        "clf = RandomForestClassifier(random_state=42)\n",
        "clf.fit(X_train, y_train)\n",
        "\n",
        "# Step 7: Evaluate the Model\n",
        "y_pred = clf.predict(X_test)\n",
        "print(\"Accuracy:\", accuracy_score(y_test, y_pred))\n",
        "print(\"\\nClassification Report:\\n\", classification_report(y_test, y_pred))\n",
        "\n",
        "# Step 8: Save the Model to Google Drive\n",
        "model_path = '/content/drive/MyDrive/css_smell_classifier.pkl'  # Update this path\n",
        "joblib.dump(clf, model_path)\n",
        "print(f\"Model saved to {model_path}\")\n"
      ]
    },
    {
      "cell_type": "code",
      "source": [
        "# Step 1: Mount Google Drive\n",
        "from google.colab import drive\n",
        "drive.mount('/content/drive')\n",
        "\n",
        "# Step 2: Import Required Libraries\n",
        "import joblib\n",
        "import re\n",
        "\n",
        "# Step 3: Load the Trained Model\n",
        "model_path = '/content/drive/MyDrive/css_smell_classifier.pkl'  # Update path\n",
        "clf = joblib.load(model_path)\n",
        "print(\"Model loaded successfully!\")\n",
        "\n",
        "# Step 4: Feature Extraction for a New CSS File\n",
        "def extract_features_from_css(file_path):\n",
        "    \"\"\"\n",
        "    Extract features from a single CSS file.\n",
        "    \"\"\"\n",
        "    try:\n",
        "        with open(file_path, 'r', encoding='utf-8') as file:\n",
        "            css_code = file.read()\n",
        "\n",
        "        # Extracting features\n",
        "        nesting_depth = css_code.count('{') - css_code.count('}')\n",
        "        num_ids = css_code.count('#')\n",
        "        num_classes = css_code.count('.')\n",
        "        num_important = css_code.count('!important')\n",
        "        selectors = re.findall(r'([^\\{\\}]+)\\s*\\{', css_code)\n",
        "        duplicate_selectors = len(selectors) - len(set(selectors))\n",
        "\n",
        "        return [nesting_depth, num_ids, num_classes, num_important, duplicate_selectors]\n",
        "    except Exception as e:\n",
        "        print(f\"Error reading or processing file: {e}\")\n",
        "        return None\n",
        "\n",
        "# Step 5: Test the Model on a New CSS File\n",
        "test_file_path = '/content/drive/MyDrive/_common.scss'  # Update path to your test CSS file\n",
        "features = extract_features_from_css(test_file_path)\n",
        "\n",
        "if features:\n",
        "    # Reshape features for prediction (1 sample, 5 features)\n",
        "    prediction = clf.predict([features])\n",
        "    print(f\"Predicted Class: {prediction[0]}\")  # Output the predicted label\n",
        "else:\n",
        "    print(\"Feature extraction failed. Ensure the test file is valid.\")\n"
      ],
      "metadata": {
        "colab": {
          "base_uri": "https://localhost:8080/"
        },
        "id": "ube6Ti942EcO",
        "outputId": "b26c5a52-53a4-47e2-f695-aaa2acc84e38"
      },
      "execution_count": null,
      "outputs": [
        {
          "output_type": "stream",
          "name": "stdout",
          "text": [
            "Mounted at /content/drive\n",
            "Model loaded successfully!\n",
            "Predicted Class: Moderate Smells\n"
          ]
        }
      ]
    },
    {
      "cell_type": "code",
      "source": [
        "# Step 1: Import Required Libraries\n",
        "import os\n",
        "import csv\n",
        "# Step 2: Function for Batch Prediction\n",
        "def classify_css_files(folder_path, model_path):\n",
        "    \"\"\"\n",
        "    Classify multiple CSS files in a folder using the trained model.\n",
        "    \"\"\"\n",
        "    # Load the trained model\n",
        "    clf = joblib.load(model_path)\n",
        "    print(\"Model loaded successfully!\")\n",
        "\n",
        "    results = []\n",
        "    for file_name in os.listdir(folder_path):\n",
        "        if file_name.endswith('.css'):\n",
        "            file_path = os.path.join(folder_path, file_name)\n",
        "            features = extract_features_from_css(file_path)\n",
        "            if features:\n",
        "                prediction = clf.predict([features])\n",
        "                results.append((file_name, prediction[0]))\n",
        "\n",
        "    # Print and save results\n",
        "    print(\"\\nClassification Results:\")\n",
        "    for file_name, prediction in results:\n",
        "        print(f\"File: {file_name}, Predicted Class: {prediction}\")\n",
        "\n",
        "    # Save results to a CSV\n",
        "    results_path = os.path.join(folder_path, 'classification_results.csv')\n",
        "    with open(results_path, 'w', newline='') as file:\n",
        "        writer = csv.writer(file)\n",
        "        writer.writerow(['File Name', 'Predicted Class'])\n",
        "        writer.writerows(results)\n",
        "    print(f\"Results saved to {results_path}\")\n",
        "\n",
        "# Step 3: Run Batch Classification\n",
        "folder_path = '/content/drive/MyDrive/test_css_files/'  # Path to folder with CSS files\n",
        "model_path = '/content/drive/MyDrive/css_smell_classifier.pkl'  # Path to trained model\n",
        "classify_css_files(folder_path, model_path)\n"
      ],
      "metadata": {
        "colab": {
          "base_uri": "https://localhost:8080/"
        },
        "id": "pOb-fP7X3kJR",
        "outputId": "21406350-b785-4d52-ccd7-a39c40574380"
      },
      "execution_count": null,
      "outputs": [
        {
          "output_type": "stream",
          "name": "stdout",
          "text": [
            "Model loaded successfully!\n",
            "\n",
            "Classification Results:\n",
            "File: fonts.css, Predicted Class: High Smells\n",
            "File: style.css, Predicted Class: Moderate Smells\n",
            "File: common.css, Predicted Class: Moderate Smells\n",
            "File: main.css, Predicted Class: Moderate Smells\n",
            "File: components.css, Predicted Class: High Smells\n",
            "Results saved to /content/drive/MyDrive/test_css_files/classification_results.csv\n"
          ]
        }
      ]
    },
    {
      "cell_type": "code",
      "source": [
        "# Step 1: Mount Google Drive\n",
        "from google.colab import drive\n",
        "drive.mount('/content/drive')\n",
        "\n",
        "# Step 2: Import Required Libraries\n",
        "import os\n",
        "import csv\n",
        "import re\n",
        "import joblib\n",
        "\n",
        "# Step 3: Define Feature Extraction Function\n",
        "def extract_features_from_css(file_path):\n",
        "    \"\"\"\n",
        "    Extract features from a single CSS file.\n",
        "    \"\"\"\n",
        "    try:\n",
        "        with open(file_path, 'r', encoding='utf-8') as file:\n",
        "            css_code = file.read()\n",
        "\n",
        "        # Extract features\n",
        "        nesting_depth = css_code.count('{') - css_code.count('}')\n",
        "        num_ids = css_code.count('#')\n",
        "        num_classes = css_code.count('.')\n",
        "        num_important = css_code.count('!important')\n",
        "        selectors = re.findall(r'([^\\{\\}]+)\\s*\\{', css_code)\n",
        "        duplicate_selectors = len(selectors) - len(set(selectors))\n",
        "\n",
        "        return [nesting_depth, num_ids, num_classes, num_important, duplicate_selectors]\n",
        "    except Exception as e:\n",
        "        print(f\"Error processing CSS file: {e}\")\n",
        "        return None\n",
        "\n",
        "# Step 4: Load the Trained Model\n",
        "model_path = '/content/drive/MyDrive/css_smell_classifier.pkl'  # Update this path\n",
        "clf = joblib.load(model_path)\n",
        "print(\"Model loaded successfully!\")\n",
        "\n",
        "# Step 5: Set Folder Path for Test CSS Files\n",
        "test_folder_path = '/content/drive/MyDrive/test_css_files/'  # Update this path to your folder\n",
        "report_path = '/content/drive/MyDrive/css_analysis_report.csv'  # Path to save the report\n",
        "\n",
        "# Check if the folder exists\n",
        "if not os.path.exists(test_folder_path):\n",
        "    raise FileNotFoundError(f\"The folder '{test_folder_path}' does not exist. Please check the path.\")\n",
        "\n",
        "# Step 6: Batch Process CSS Files\n",
        "results = []\n",
        "summary = {\"Clean\": 0, \"Moderate Smells\": 0, \"High Smells\": 0}  # To summarize predictions\n",
        "\n",
        "for file_name in os.listdir(test_folder_path):\n",
        "    if file_name.endswith('.css'):\n",
        "        file_path = os.path.join(test_folder_path, file_name)\n",
        "        features = extract_features_from_css(file_path)\n",
        "        if features:\n",
        "            prediction = clf.predict([features])[0]\n",
        "            results.append({\n",
        "                \"file_name\": file_name,\n",
        "                \"nesting_depth\": features[0],\n",
        "                \"num_ids\": features[1],\n",
        "                \"num_classes\": features[2],\n",
        "                \"num_important\": features[3],\n",
        "                \"duplicate_selectors\": features[4],\n",
        "                \"predicted_class\": prediction\n",
        "            })\n",
        "            summary[prediction] += 1\n",
        "\n",
        "# Step 7: Print the Summary\n",
        "print(\"Prediction Summary:\")\n",
        "for label, count in summary.items():\n",
        "    print(f\"{label}: {count} files\")\n",
        "\n",
        "# Step 8: Save the Detailed Report\n",
        "with open(report_path, 'w', newline='', encoding='utf-8') as report_file:\n",
        "    fieldnames = [\"file_name\", \"nesting_depth\", \"num_ids\", \"num_classes\", \"num_important\", \"duplicate_selectors\", \"predicted_class\"]\n",
        "    writer = csv.DictWriter(report_file, fieldnames=fieldnames)\n",
        "    writer.writeheader()\n",
        "    writer.writerows(results)\n",
        "\n",
        "print(f\"Detailed report saved to: {report_path}\")\n"
      ],
      "metadata": {
        "colab": {
          "base_uri": "https://localhost:8080/"
        },
        "id": "yTY4nI7laIKJ",
        "outputId": "fd818fdc-bf3e-4cda-87de-7ea84fd1bc04"
      },
      "execution_count": null,
      "outputs": [
        {
          "output_type": "stream",
          "name": "stdout",
          "text": [
            "Drive already mounted at /content/drive; to attempt to forcibly remount, call drive.mount(\"/content/drive\", force_remount=True).\n",
            "Model loaded successfully!\n",
            "Prediction Summary:\n",
            "Clean: 0 files\n",
            "Moderate Smells: 3 files\n",
            "High Smells: 2 files\n",
            "Detailed report saved to: /content/drive/MyDrive/css_analysis_report.csv\n"
          ]
        }
      ]
    },
    {
      "cell_type": "code",
      "source": [
        "from google.colab import files\n",
        "\n",
        "# Path to the model in Google Drive\n",
        "model_path = '/content/drive/MyDrive/css_smell_classifier.pkl'\n",
        "\n",
        "# Copy the model to the Colab workspace (if necessary)\n",
        "!cp {model_path} ./css_smell_classifier.pkl\n",
        "\n",
        "# Download the model\n",
        "files.download('./css_smell_classifier.pkl')\n"
      ],
      "metadata": {
        "colab": {
          "base_uri": "https://localhost:8080/",
          "height": 17
        },
        "id": "_edQsDq18hCl",
        "outputId": "9daa5265-8059-4392-bc6e-d7cd0f48a1bd"
      },
      "execution_count": null,
      "outputs": [
        {
          "output_type": "display_data",
          "data": {
            "text/plain": [
              "<IPython.core.display.Javascript object>"
            ],
            "application/javascript": [
              "\n",
              "    async function download(id, filename, size) {\n",
              "      if (!google.colab.kernel.accessAllowed) {\n",
              "        return;\n",
              "      }\n",
              "      const div = document.createElement('div');\n",
              "      const label = document.createElement('label');\n",
              "      label.textContent = `Downloading \"${filename}\": `;\n",
              "      div.appendChild(label);\n",
              "      const progress = document.createElement('progress');\n",
              "      progress.max = size;\n",
              "      div.appendChild(progress);\n",
              "      document.body.appendChild(div);\n",
              "\n",
              "      const buffers = [];\n",
              "      let downloaded = 0;\n",
              "\n",
              "      const channel = await google.colab.kernel.comms.open(id);\n",
              "      // Send a message to notify the kernel that we're ready.\n",
              "      channel.send({})\n",
              "\n",
              "      for await (const message of channel.messages) {\n",
              "        // Send a message to notify the kernel that we're ready.\n",
              "        channel.send({})\n",
              "        if (message.buffers) {\n",
              "          for (const buffer of message.buffers) {\n",
              "            buffers.push(buffer);\n",
              "            downloaded += buffer.byteLength;\n",
              "            progress.value = downloaded;\n",
              "          }\n",
              "        }\n",
              "      }\n",
              "      const blob = new Blob(buffers, {type: 'application/binary'});\n",
              "      const a = document.createElement('a');\n",
              "      a.href = window.URL.createObjectURL(blob);\n",
              "      a.download = filename;\n",
              "      div.appendChild(a);\n",
              "      a.click();\n",
              "      div.remove();\n",
              "    }\n",
              "  "
            ]
          },
          "metadata": {}
        },
        {
          "output_type": "display_data",
          "data": {
            "text/plain": [
              "<IPython.core.display.Javascript object>"
            ],
            "application/javascript": [
              "download(\"download_dd01778f-0479-4468-9d4b-f48655f6fb39\", \"css_smell_classifier.pkl\", 296225)"
            ]
          },
          "metadata": {}
        }
      ]
    }
  ]
}